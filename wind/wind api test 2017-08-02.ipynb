{
 "cells": [
  {
   "cell_type": "code",
   "execution_count": 1,
   "metadata": {
    "collapsed": true
   },
   "outputs": [],
   "source": [
    "from WindPy import *"
   ]
  },
  {
   "cell_type": "code",
   "execution_count": 2,
   "metadata": {},
   "outputs": [
    {
     "name": "stdout",
     "output_type": "stream",
     "text": [
      "Welcome to use Wind Quant API for Python (WindPy)!\n",
      "You can use w.menu to help yourself to create commands(WSD,WSS,WST,WSI,WSQ,...)!\n",
      "\n",
      "COPYRIGHT (C) 2016 WIND HONGHUI INFORMATION & TECHKNOLEWDGE CO., LTD. ALL RIGHTS RESERVED.\n",
      "IN NO CIRCUMSTANCE SHALL WIND BE RESPONSIBLE FOR ANY DAMAGES OR LOSSES CAUSED BY USING WIND QUANT API FOR Python.\n"
     ]
    },
    {
     "data": {
      "text/plain": [
       ".ErrorCode=0\n",
       ".Data=[OK!]"
      ]
     },
     "execution_count": 2,
     "metadata": {},
     "output_type": "execute_result"
    }
   ],
   "source": [
    "w.start()"
   ]
  },
  {
   "cell_type": "code",
   "execution_count": 3,
   "metadata": {},
   "outputs": [
    {
     "data": {
      "text/plain": [
       ".ErrorCode=0\n",
       ".Fields=[BrokerID,BrokerName,ErrorCode,ErrorMsg]\n",
       ".Data=[[00000010,11102101,20010401,20020401,20030410,20040401,20050401,20050402,20060401,20070401,...],[大奖章模拟交易,万赢证券（香港）,安粮期货（CTPMini）,国投安信（CTP）,宝城期货（CTP）,天风期货（CTP）,首创期货主席（CTP）,首创期货二席（CTP）,北京中期（CTP）,渤海期货（CTP）,...],[0,0,0,0,0,0,0,0,0,0,...],[,,,,,,,,,,...]]"
      ]
     },
     "execution_count": 3,
     "metadata": {},
     "output_type": "execute_result"
    }
   ],
   "source": [
    "w.tquery('broker')"
   ]
  },
  {
   "cell_type": "code",
   "execution_count": 4,
   "metadata": {},
   "outputs": [
    {
     "data": {
      "text/plain": [
       ".ErrorCode=-40522002\n",
       ".Codes=[ErrorReport]\n",
       ".Fields=[OUTMESSAGE]\n",
       ".Times=[20170802 15:40:34]\n",
       ".Data=[[This function is not supported in free edition.]]"
      ]
     },
     "execution_count": 4,
     "metadata": {},
     "output_type": "execute_result"
    }
   ],
   "source": [
    "w.wst(\"600000.SH\",\"open\", datetime.today()-timedelta(0,2*3600), datetime.now())"
   ]
  },
  {
   "cell_type": "code",
   "execution_count": 6,
   "metadata": {},
   "outputs": [
    {
     "data": {
      "text/plain": [
       ".ErrorCode=0\n",
       ".Codes=[600000.SH]\n",
       ".Fields=[CLOSE]\n",
       ".Times=[20170802]\n",
       ".Data=[[13.44]]"
      ]
     },
     "execution_count": 6,
     "metadata": {},
     "output_type": "execute_result"
    }
   ],
   "source": [
    "w.edb('600000.SH')"
   ]
  },
  {
   "cell_type": "code",
   "execution_count": 7,
   "metadata": {},
   "outputs": [
    {
     "data": {
      "text/plain": [
       ".ErrorCode=-40522005\n",
       ".Codes=[ErrorReport]\n",
       ".Fields=[OUTMESSAGE]\n",
       ".Times=[20170802]\n",
       ".Data=[[Unsupportted wind_codes in free edition.]]"
      ]
     },
     "execution_count": 7,
     "metadata": {},
     "output_type": "execute_result"
    }
   ],
   "source": [
    "w.wsd('M5567877','close','20170101')"
   ]
  },
  {
   "cell_type": "code",
   "execution_count": 10,
   "metadata": {},
   "outputs": [
    {
     "data": {
      "text/plain": [
       ".ErrorCode=-40530201\n",
       ".Fields=[LogonAccount,AccountType,ErrorCode,ErrorMsg]\n",
       ".Data=[[M:1865293607802],[CFE],[-40530201],[ErrorB:201获取配置错误]]"
      ]
     },
     "execution_count": 10,
     "metadata": {},
     "output_type": "execute_result"
    }
   ],
   "source": [
    "w.tlogon('0000',0,'M:1865293607802','111111','cfe')"
   ]
  },
  {
   "cell_type": "code",
   "execution_count": null,
   "metadata": {
    "collapsed": true
   },
   "outputs": [],
   "source": []
  },
  {
   "cell_type": "code",
   "execution_count": null,
   "metadata": {
    "collapsed": true
   },
   "outputs": [],
   "source": []
  }
 ],
 "metadata": {
  "kernelspec": {
   "display_name": "Python 3",
   "language": "python",
   "name": "python3"
  },
  "language_info": {
   "codemirror_mode": {
    "name": "ipython",
    "version": 3
   },
   "file_extension": ".py",
   "mimetype": "text/x-python",
   "name": "python",
   "nbconvert_exporter": "python",
   "pygments_lexer": "ipython3",
   "version": "3.6.2rc2"
  }
 },
 "nbformat": 4,
 "nbformat_minor": 2
}
